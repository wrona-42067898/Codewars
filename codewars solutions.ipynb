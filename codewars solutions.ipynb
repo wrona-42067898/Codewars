{
 "cells": [
  {
   "cell_type": "markdown",
   "metadata": {},
   "source": [
    "### Codewars Solutions\n",
    "\n",
    "My solutions for problems from https://www.codewars.com  \n",
    "\n",
    "The first few problems are very simple, but theyget progressively harder."
   ]
  },
  {
   "cell_type": "markdown",
   "metadata": {},
   "source": [
    "### Matrix Addition\n",
    "\n",
    "Write a function that accepts two square matrices (N x N two dimensional arrays), and return the sum of the two. Both matrices being passed into the function will be of size N x N (square), containing only integers."
   ]
  },
  {
   "cell_type": "code",
   "execution_count": 36,
   "metadata": {},
   "outputs": [],
   "source": [
    "def matrix_addition(a, b):\n",
    "    for i,j in enumerate(a):\n",
    "        for k,l in enumerate(j):\n",
    "            a[i][k] = a[i][k] + b[i][k]\n",
    "    return a\n",
    "\n",
    "assert matrix_addition( [ [1, 2], [1, 2] ], [ [2, 3], [2, 3] ] )== [ [3, 5],[3, 5] ]"
   ]
  },
  {
   "cell_type": "markdown",
   "metadata": {},
   "source": [
    "## Reverse/Rotate\n",
    "\n",
    "The input is a string str of digits. Cut the string into chunks (a chunk here is a substring of the initial string) of size sz (ignore the last chunk if its size is less than sz). If a chunk represents an integer such as the sum of the cubes of its digits is divisible by 2, reverse that chunk; otherwise rotate it to the left by one position. Put together these modified chunks and return the result as a string.  \n",
    "  \n",
    "If\n",
    "    - sz is <= 0 or if str is empty return \"\"\n",
    "    - sz is greater (>) than the length of str it is impossible to take a chunk of size sz hence return \"\"."
   ]
  },
  {
   "cell_type": "code",
   "execution_count": 75,
   "metadata": {},
   "outputs": [
    {
     "data": {
      "text/plain": [
       "'234561444222'"
      ]
     },
     "execution_count": 75,
     "metadata": {},
     "output_type": "execute_result"
    }
   ],
   "source": [
    "def revrot(strng, sz):\n",
    "    if sz == 0:\n",
    "        return (\"\")\n",
    "    counts = len(strng) // sz #how many n digit numbers to iterate through\n",
    "    start_pos = 0\n",
    "    sum_cubes = 0\n",
    "    answer = \"\"\n",
    "    for i in range (0,counts):\n",
    "        n_digit_num = strng[start_pos: start_pos + sz]\n",
    "        for number in n_digit_num:\n",
    "            sum_cubes += int(number)**3\n",
    "        if sum_cubes % 2 == 0:\n",
    "            answer += n_digit_num[::-1]\n",
    "            sum_cubes = 0\n",
    "        else:\n",
    "            answer += (n_digit_num[1:] + n_digit_num[0])\n",
    "            sum_cubes = 0\n",
    "        start_pos += sz\n",
    "    return (answer)\n",
    "\n",
    "#Example; first 6-digit number is shuffled, second 6-digit number is inverted\n",
    "assert revrot(\"123456222444\", 6) == '234561444222'\n",
    "revrot(\"123456222444\", 6)"
   ]
  },
  {
   "cell_type": "markdown",
   "metadata": {},
   "source": [
    "## Fibonacci x3\n",
    "\n",
    "Create a fibonacci function that given a signature array/list, returns the first n elements - signature included of the so seeded sequence.\n",
    "\n",
    "Signature will always contain 3 numbers; n will always be a non-negative number; if n == 0, then return an empty array and be ready for anything else which is not clearly specified ;)"
   ]
  },
  {
   "cell_type": "code",
   "execution_count": 76,
   "metadata": {},
   "outputs": [
    {
     "data": {
      "text/plain": [
       "[1, 3, 5, 9, 17, 31, 57, 105]"
      ]
     },
     "execution_count": 76,
     "metadata": {},
     "output_type": "execute_result"
    }
   ],
   "source": [
    "def tribonacci(signature, n):\n",
    "    n1 = signature[0]\n",
    "    n2 = signature[1]\n",
    "    n3 = signature[2]\n",
    "    out = []\n",
    "    for i in range (0,n):\n",
    "        out.append(n1)\n",
    "        n1,n2,n3 = n2,n3,n1+n2+n3\n",
    "    return(out)\n",
    "\n",
    "#Example \n",
    "assert tribonacci([1,3,5], 8) == [1, 3, 5, 9, 17, 31, 57, 105]\n",
    "tribonacci([1,3,5], 8)"
   ]
  },
  {
   "cell_type": "markdown",
   "metadata": {},
   "source": [
    "## DNA Complement\n",
    "\n",
    "In DNA strings, symbols \"A\" and \"T\" are complements of each other, as \"C\" and \"G\". You have function with one side of the DNA (string, except for Haskell); you need to get the other complementary side. DNA strand is never empty or there is no DNA at all (again, except for Haskell)."
   ]
  },
  {
   "cell_type": "code",
   "execution_count": 77,
   "metadata": {},
   "outputs": [
    {
     "data": {
      "text/plain": [
       "'TACTGCATCGATCGATCGATCGACGCGCG'"
      ]
     },
     "execution_count": 77,
     "metadata": {},
     "output_type": "execute_result"
    }
   ],
   "source": [
    "def DNA_strand(dna):\n",
    "    comp = {'A': 'T',\n",
    "            'T': 'A',\n",
    "            'G': 'C',\n",
    "            'C': 'G'}\n",
    "    return ''.join(list(map(lambda x: comp[x], dna)))\n",
    "\n",
    "#Example\n",
    "assert DNA_strand(\"ATGACGTAGCTAGCTAGCTAGCTGCGCGC\") == 'TACTGCATCGATCGATCGATCGACGCGCG'\n",
    "DNA_strand(\"ATGACGTAGCTAGCTAGCTAGCTGCGCGC\")"
   ]
  },
  {
   "cell_type": "markdown",
   "metadata": {},
   "source": [
    "## Tower\n",
    "\n",
    "Build a Tower by the following given argument:\n",
    "    number of floors (integer and always greater than 0).\n",
    "\n",
    "Tower block is represented as *. Python: return a list;  "
   ]
  },
  {
   "cell_type": "code",
   "execution_count": 32,
   "metadata": {},
   "outputs": [
    {
     "name": "stdout",
     "output_type": "stream",
     "text": [
      "  *  \n",
      " *** \n",
      "*****\n"
     ]
    }
   ],
   "source": [
    "def tower_builder(n_floors):\n",
    "    tower = []\n",
    "    num_spaces = n_floors\n",
    "    asterisk_count = 1\n",
    "    for i in range (0, n_floors):\n",
    "        if i == 0:\n",
    "            tower.append((num_spaces-1) * \" \" + '*' + (num_spaces -1) * \" \")\n",
    "            num_spaces -=2\n",
    "        else:\n",
    "            tower.append((num_spaces) * \" \" + (asterisk_count + 2) * \"*\" + (num_spaces) * \" \")\n",
    "            asterisk_count += 2\n",
    "            num_spaces -= 1\n",
    "    return (tower)\n",
    "\n",
    "#Example of a tower with 3 floors\n",
    "for level in tower_builder(3):\n",
    "    print(level)"
   ]
  },
  {
   "cell_type": "markdown",
   "metadata": {},
   "source": [
    "## Character count\n",
    "\n",
    "The main idea is to count all the occuring characters(UTF-8) in string. If you have string like this; *\"aba\"*; then the result should be { 'a': 2, 'b': 1 }\n",
    "\n",
    "What if the string is empty ? Then the result should be empty object literal { }"
   ]
  },
  {
   "cell_type": "code",
   "execution_count": 33,
   "metadata": {},
   "outputs": [
    {
     "data": {
      "text/plain": [
       "{'s': 2,\n",
       " 'u': 1,\n",
       " 'p': 1,\n",
       " 'e': 1,\n",
       " 'r': 2,\n",
       " 'c': 2,\n",
       " 'a': 2,\n",
       " 'l': 2,\n",
       " 'i': 4,\n",
       " 'f': 1,\n",
       " 'g': 1,\n",
       " 't': 1}"
      ]
     },
     "execution_count": 33,
     "metadata": {},
     "output_type": "execute_result"
    }
   ],
   "source": [
    "def count(string):\n",
    "    out_d = {}    \n",
    "    for letter in string:\n",
    "        if letter not in out_d.keys():\n",
    "            out_d[letter] = 1\n",
    "        else:\n",
    "            out_d[letter] += 1\n",
    "    return out_d\n",
    "\n",
    "#Example\n",
    "count(\"supercalifragilistic\")\n",
    "\n",
    "#Additional note: one-liner --> return {i: string.count(i) for i in string}"
   ]
  },
  {
   "cell_type": "markdown",
   "metadata": {},
   "source": [
    "## camelCasing\n",
    "\n",
    "Complete the method/function so that it converts dash/underscore delimited words into camel casing. The first word within the output should be capitalized only if the original word was capitalized."
   ]
  },
  {
   "cell_type": "code",
   "execution_count": 78,
   "metadata": {},
   "outputs": [
    {
     "name": "stdout",
     "output_type": "stream",
     "text": [
      "the-Cat_is_Pippi --> theCatIsPippi\n",
      "The_Stealth_Warrior --> TheStealthWarrior\n"
     ]
    }
   ],
   "source": [
    "def to_camel_case(text):\n",
    "    uppers = list(map(chr, range(65, 91)))\n",
    "    sep_pos = [pos for pos, char in enumerate(text) if char in [\"_\", \"-\"]]\n",
    "    text_list = list(text)\n",
    "    for i in sep_pos:\n",
    "        if text[i + 1] not in uppers:\n",
    "             text_list[i+1] = text[i+1].upper()\n",
    "    text = ''.join(text_list).replace('_', '').replace('-', '')\n",
    "    return (text)\n",
    "    \n",
    "\n",
    "test1 = \"the-Cat_is_Pippi\"\n",
    "test2 = \"The_Stealth_Warrior\"\n",
    "\n",
    "#Test cases\n",
    "assert to_camel_case(test1) == \"theCatIsPippi\"\n",
    "assert to_camel_case(test2) == \"TheStealthWarrior\"\n",
    "\n",
    "print (test1 + \" --> \" + to_camel_case(test1))\n",
    "print (test2 + \" --> \" + to_camel_case(test2))"
   ]
  },
  {
   "cell_type": "markdown",
   "metadata": {},
   "source": [
    "## Song decoder\n",
    "\n",
    "Polycarpus works as a DJ in the best Berland nightclub, and he often uses dubstep music in his performance. Recently, he has decided to take a couple of old songs and make dubstep remixes from them. Let's assume that a song consists of some number of words (that don't contain WUB). To make the dubstep remix of this song, Polycarpus inserts a certain number of words \"WUB\" before the first word of the song (the number may be zero), after the last word (the number may be zero), and between words (at least one between any pair of neighbouring words), and then the boy glues together all the words, including \"WUB\", in one string and plays the song at the club."
   ]
  },
  {
   "cell_type": "code",
   "execution_count": 79,
   "metadata": {
    "scrolled": true
   },
   "outputs": [
    {
     "data": {
      "text/plain": [
       "'WE ARE THE CHAMPIONS MY FRIEND'"
      ]
     },
     "execution_count": 79,
     "metadata": {},
     "output_type": "execute_result"
    }
   ],
   "source": [
    "def song_decoder(song):\n",
    "    words = song.replace(\"WUB\", \" \").strip(\" \").split(\" \")\n",
    "    return \" \".join([\"\".join(w) for w in words if w != ''])\n",
    "\n",
    "\n",
    "assert song_decoder(\"WUBWEWUBAREWUBWUBTHEWUBCHAMPIONSWUBMYWUBFRIENDWUB\") == 'WE ARE THE CHAMPIONS MY FRIEND'\n",
    "song_decoder(\"WUBWEWUBAREWUBWUBTHEWUBCHAMPIONSWUBMYWUBFRIENDWUB\")"
   ]
  },
  {
   "cell_type": "markdown",
   "metadata": {},
   "source": [
    "## Find substrings\n",
    "\n",
    "Given two arrays of strings a1 and a2 return a sorted array r in lexicographical order of the strings of a1 which are substrings of strings of a2."
   ]
  },
  {
   "cell_type": "code",
   "execution_count": 80,
   "metadata": {},
   "outputs": [
    {
     "data": {
      "text/plain": [
       "['arp', 'live', 'strong']"
      ]
     },
     "execution_count": 80,
     "metadata": {},
     "output_type": "execute_result"
    }
   ],
   "source": [
    "def in_array(array1, array2):\n",
    "    return sorted(list(set([sub for word in array2 for sub in array1 if sub in word])))\n",
    "\n",
    "a1 = [\"arp\", \"live\", \"strong\"]\n",
    "a2 = [\"lively\", \"alive\", \"harp\", \"sharp\", \"armstrong\"]\n",
    "assert in_array(a1,a2) == ['arp', 'live', 'strong']\n",
    "in_array(a1,a2)"
   ]
  },
  {
   "cell_type": "markdown",
   "metadata": {},
   "source": [
    "## Simulate selection screen\n",
    "\n",
    "Simulate the video game's character selection screen behaviour, more specifically the selection grid.  \n",
    "**Input**\n",
    "    - the list of game characters in a 2x6 grid;\n",
    "    - the initial position of the selection cursor (top-left is (0,0));\n",
    "    - a list of moves of the selection cursor (which are up, down, left, right);\n",
    "**Output**\n",
    "the list of characters who have been hovered by the selection cursor after all the moves (ordered and with repetition, all the ones after a move, wether successful or not, see tests);  \n",
    "**Rules**\n",
    "    - Selection cursor is circular horizontally but not vertically!\n",
    "    - As you might remember from the game, the selection cursor rotates horizontally but not vertically; that means that if I'm in the leftmost and I try to go left again I'll get to the rightmost."
   ]
  },
  {
   "cell_type": "code",
   "execution_count": 81,
   "metadata": {},
   "outputs": [
    {
     "data": {
      "text/plain": [
       "['Ryu', 'Vega', 'Ryu', 'Vega', 'Balrog']"
      ]
     },
     "execution_count": 81,
     "metadata": {},
     "output_type": "execute_result"
    }
   ],
   "source": [
    "def street_fighter_selection(fighters, initial_position, moves):\n",
    "    if moves == []:\n",
    "        return []\n",
    "    \n",
    "    initial = list((initial_position))\n",
    "    current_fighter = []\n",
    "    for move in moves:\n",
    "        if move == 'up':            \n",
    "            initial[0] = 0\n",
    "        if move == 'down':\n",
    "            initial[0] = 1\n",
    "        if move == 'left':\n",
    "            if initial[1] == 0:\n",
    "                initial[1] = 5\n",
    "            else:\n",
    "                initial[1] = initial[1] - 1\n",
    "        if move == 'right':\n",
    "            if initial[1] == 5:\n",
    "                initial[1] = 0\n",
    "            else:\n",
    "                initial[1] = initial[1] + 1\n",
    "                \n",
    "        current_fighter.append(fighters[initial[0]][initial[1]])\n",
    "    return (current_fighter)\n",
    "\n",
    "\n",
    "#Test case\n",
    "fighters = [\n",
    "    [\"Ryu\", \"E.Honda\", \"Blanka\", \"Guile\", \"Balrog\", \"Vega\"],\n",
    "    [\"Ken\", \"Chun Li\", \"Zangief\", \"Dhalsim\", \"Sagat\", \"M.Bison\"]\n",
    "]\n",
    "moves = ['up', 'left', 'right', 'left', 'left']\n",
    "\n",
    "assert street_fighter_selection(fighters, (0,0), moves) == ['Ryu', 'Vega', 'Ryu', 'Vega', 'Balrog']\n",
    "street_fighter_selection(fighters, (0,0), moves)"
   ]
  },
  {
   "cell_type": "markdown",
   "metadata": {},
   "source": [
    "## Create hashtags\n",
    "\n",
    "The marketing team is spending way too much time typing in hashtags.\n",
    "Let's help them with out own Hashtag Generator!\n",
    "\n",
    "Here's the deal:\n",
    "    - It must start with a hashtag (#).\n",
    "    - All words must have their first letter capitalized.\n",
    "    - If the final result is longer than 140 chars it must return false.\n",
    "    - If the input or the result is an empty string it must return false."
   ]
  },
  {
   "cell_type": "code",
   "execution_count": 84,
   "metadata": {},
   "outputs": [],
   "source": [
    "def generate_hashtag(s):\n",
    "    if len(s) == 0 or len(s) > 140:\n",
    "        return (False)\n",
    "    else:\n",
    "        return (\"#\" + (\"\").join([i.title() for i in s.split(\" \") if i != '']))\n",
    "    \n",
    "\n",
    "t1,t2,t3 = \" Hello there thanks for trying my Kata\", \"    Hello     World   \", \"\"\n",
    "\n",
    "assert generate_hashtag(t1) == \"#HelloThereThanksForTryingMyKata\"\n",
    "assert generate_hashtag(t2) == \"#HelloWorld\"\n",
    "assert generate_hashtag(t3) == False"
   ]
  },
  {
   "cell_type": "markdown",
   "metadata": {},
   "source": [
    "## Find the missing array\n",
    "\n",
    "You get an array of arrays.\n",
    "If you sort the arrays by their length, you will see, that their length-values are consecutive.\n",
    "But one array is missing!\n",
    "\n",
    "You have to write a method, that return the length of the missing array.\n",
    "\n",
    "Example:\n",
    "[[1, 2], [4, 5, 1, 1], [1], [5, 6, 7, 8, 9]] --> 3"
   ]
  },
  {
   "cell_type": "code",
   "execution_count": 85,
   "metadata": {},
   "outputs": [
    {
     "name": "stdout",
     "output_type": "stream",
     "text": [
      "test1 = 3\n",
      "test2 = 0\n"
     ]
    }
   ],
   "source": [
    "def get_length_of_missing_array(array_of_arrays):\n",
    "    if not array_of_arrays:\n",
    "        return 0\n",
    "        \n",
    "    array_lens = sorted([len(i) if i != None else 0 for i in array_of_arrays])\n",
    "    if len(array_of_arrays) == 0 or array_lens[0] == 0:\n",
    "        return 0\n",
    "        \n",
    "    else:\n",
    "        return ([i for i in range(array_lens[0], array_lens[-1]) if i not in array_lens][0])\n",
    "\n",
    "test1 = [[1, 2], [4, 5, 1, 1], [1], [5, 6, 7, 8, 9]]\n",
    "test2 = [[1, 2], [4, 5, 1, 1], [], [5, 6, 7, 8, 9]]\n",
    "\n",
    "assert get_length_of_missing_array(test1) == 3\n",
    "assert get_length_of_missing_array(test2) == 0\n",
    "\n",
    "print (\"test1 = {}\".format(str(get_length_of_missing_array(test1))))\n",
    "print (\"test2 = {}\".format(str(get_length_of_missing_array(test2))))"
   ]
  },
  {
   "cell_type": "markdown",
   "metadata": {},
   "source": [
    "## Convert fractions\n",
    "\n",
    "You will have a list of rationals in the form:  \n",
    "     -  [ [numer_1, denom_1] , ... [numer_n, denom_n] ]\n",
    "\n",
    "where all numbers are positive ints. You have to produce a result in the form:\n",
    "    -  [ [N_1, D] ... [N_n, D] ]\n",
    "    \n",
    "in which D is as small as possible and N_1/D == numer_1/denom_1 ... N_n/D == numer_n,/denom_n.\n",
    "\n",
    "Note: This kata explanation was really crap, the example below makes it more clear\n",
    "    - convertFracs [(1, 2), (1, 3), (1, 4)] should return [(6, 12), (4, 12), (3, 12)]\n",
    "    \n",
    "General solution: Calculate the greatest common divisor and subsequently the lowest common multiple (lcm) for each denominator. Multiply out the numerator appropriately to match.\n"
   ]
  },
  {
   "cell_type": "code",
   "execution_count": 286,
   "metadata": {},
   "outputs": [
    {
     "data": {
      "text/plain": [
       "[[6, 12], [4, 12], [3, 12]]"
      ]
     },
     "execution_count": 286,
     "metadata": {},
     "output_type": "execute_result"
    }
   ],
   "source": [
    "def lcm(a,b):\n",
    "    small, big = sorted([a,b])[0], sorted([a,b])[1]\n",
    "    remainder = big % small\n",
    "    \n",
    "    #Euclidean algorithm (small becomes greatest common divisor)\n",
    "    while remainder != 0:\n",
    "        remainder, small = small % remainder, remainder\n",
    "    return (int(a * b // small))\n",
    "\n",
    "def convertFracts(lst):\n",
    "    my_lcm = lcm(lst[0][1], lst[1][1])\n",
    "    for i in range (2,len(lst)):\n",
    "        my_lcm = lcm(my_lcm, lst[i][1])\n",
    "\n",
    "    for i in range (0,len(lst)):\n",
    "        lst[i][0], lst[i][1] = int((my_lcm // lst[i][1]) * lst[i][0]), my_lcm\n",
    "    return (lst)\n",
    "\n",
    "nums = [[1, 2], [1, 3], [1, 4]] #[numerator, demominator]\n",
    "\n",
    "assert convertFracts(nums) == [[6, 12], [4, 12], [3, 12]]\n",
    "\n",
    "convertFracts(nums)"
   ]
  },
  {
   "cell_type": "markdown",
   "metadata": {},
   "source": [
    "## Gaps in Primes\n",
    "The prime numbers are not regularly spaced. For example from 2 to 3 the gap is 1. From 3 to 5 the gap is 2. From 7 to 11 it is 4. Between 2 and 50 we have the following pairs of 2-gaps primes: 3-5, 5-7, 11-13, 17-19, 29-31, 41-43\n",
    "\n",
    "A prime gap of length n is a run of n-1 consecutive composite numbers between two successive primes (see: http://mathworld.wolfram.com/PrimeGaps.html).\n",
    "\n",
    "We will write a function gap with parameters:\n",
    "\n",
    "g (integer >= 2) which indicates the gap we are looking for\n",
    "\n",
    "m (integer > 2) which gives the start of the search (m inclusive)\n",
    "\n",
    "n (integer >= m) which gives the end of the search (n inclusive)"
   ]
  },
  {
   "cell_type": "code",
   "execution_count": 71,
   "metadata": {},
   "outputs": [
    {
     "name": "stdout",
     "output_type": "stream",
     "text": [
      "[3, 5]\n",
      "[163, 167]\n"
     ]
    }
   ],
   "source": [
    "def gap(g, m, n):#g;gap m;min n;max\n",
    "    ints = list(range(m,n+1))\n",
    "    for i in range (2,n+1):\n",
    "        if i in ints or i < m:\n",
    "            for j in ints:\n",
    "                if j % i == 0 and j != i:\n",
    "                    ints.remove(j)\n",
    "    gaps = [abs(ints[i] - ints[i+1]) for i in range(len(ints)-1)]\n",
    "    for loc,gap in enumerate(gaps):\n",
    "        if gap == g:\n",
    "            return [ints[loc], ints[loc+1]]\n",
    "        \n",
    "\n",
    "print(gap(2,3,50))\n",
    "print(gap(4, 130, 200))"
   ]
  },
  {
   "cell_type": "markdown",
   "metadata": {},
   "source": [
    "My first solution above fails on very large test casess. Will need a more optimized solution"
   ]
  },
  {
   "cell_type": "markdown",
   "metadata": {},
   "source": [
    "## Trailing zeros in large factorials\n",
    "\n",
    "Write a program that will calculate the number of trailing zeros in a factorial of a given number."
   ]
  },
  {
   "cell_type": "code",
   "execution_count": 73,
   "metadata": {},
   "outputs": [],
   "source": [
    "#First solution; inefficient for very high n values\n",
    "\n",
    "def factorial(n):\n",
    "    if n == 1:\n",
    "        return 1\n",
    "    else:\n",
    "        x = 1\n",
    "        for i in range(1,n+1):\n",
    "            x *= i\n",
    "        return x\n",
    "    \n",
    "def zeros(n):\n",
    "    my_factorial = str(factorial(n))\n",
    "    counter = 0\n",
    "    for i in my_factorial[::-1]:\n",
    "        if i == '0':\n",
    "            counter += 1\n",
    "        else:\n",
    "            return (counter)\n",
    "    \n",
    "assert zeros(0) == 0\n",
    "assert zeros(6) == 1\n",
    "assert zeros(30) == 7"
   ]
  },
  {
   "cell_type": "code",
   "execution_count": 75,
   "metadata": {},
   "outputs": [
    {
     "data": {
      "text/plain": [
       "24999"
      ]
     },
     "execution_count": 75,
     "metadata": {},
     "output_type": "execute_result"
    }
   ],
   "source": [
    "zeros(100000)"
   ]
  },
  {
   "cell_type": "code",
   "execution_count": 42,
   "metadata": {},
   "outputs": [
    {
     "data": {
      "text/plain": [
       "199"
      ]
     },
     "execution_count": 42,
     "metadata": {},
     "output_type": "execute_result"
    }
   ],
   "source": [
    "999//5"
   ]
  },
  {
   "cell_type": "code",
   "execution_count": 83,
   "metadata": {},
   "outputs": [
    {
     "ename": "NameError",
     "evalue": "name 'zya' is not defined",
     "output_type": "error",
     "traceback": [
      "\u001b[1;31m---------------------------------------------------------------------------\u001b[0m",
      "\u001b[1;31mNameError\u001b[0m                                 Traceback (most recent call last)",
      "\u001b[1;32m<ipython-input-83-950efb342568>\u001b[0m in \u001b[0;36m<module>\u001b[1;34m()\u001b[0m\n\u001b[1;32m----> 1\u001b[1;33m \u001b[0mzya\u001b[0m \u001b[1;33m+=\u001b[0m \u001b[1;36m5\u001b[0m\u001b[1;33m/\u001b[0m\u001b[1;36m5\u001b[0m\u001b[1;33m\u001b[0m\u001b[0m\n\u001b[0m",
      "\u001b[1;31mNameError\u001b[0m: name 'zya' is not defined"
     ]
    }
   ],
   "source": []
  },
  {
   "cell_type": "code",
   "execution_count": 81,
   "metadata": {},
   "outputs": [],
   "source": [
    "#Adjusted solution\n",
    "# def factorial(n):\n",
    "#     if n == 1:\n",
    "#         return 1\n",
    "#     else:\n",
    "#         x = 1\n",
    "#         for i in range(1,n+1):\n",
    "#             x *= i\n",
    "#         return x\n",
    "\n",
    "from math import factorial\n",
    "\n",
    "def zeros(n):\n",
    "    my_factorial = factorial(n)\n",
    "    \n",
    "    num_zeros = 0\n",
    "    current_multiple = 5\n",
    "    \n",
    "    while current_multiple <= n:\n",
    "        num_zeros += n//current_multiple\n",
    "        current_multiple *=5\n",
    "    return num_zeros\n",
    "\n",
    "assert zeros(0) == 0\n",
    "assert zeros(6) == 1\n",
    "assert zeros(30) == 7"
   ]
  },
  {
   "cell_type": "code",
   "execution_count": 86,
   "metadata": {},
   "outputs": [],
   "source": [
    "#Final solution\n",
    "\n",
    "def zeros(n):\n",
    "    num_zeros = 0\n",
    "    current_multiple = 5\n",
    "    \n",
    "    while current_multiple <= n:\n",
    "        num_zeros += n//current_multiple\n",
    "        current_multiple *=5\n",
    "    return num_zeros\n",
    "\n",
    "assert zeros(0) == 0\n",
    "assert zeros(6) == 1\n",
    "assert zeros(30) == 7\n",
    "assert zeros(100000) == 24999"
   ]
  },
  {
   "cell_type": "markdown",
   "metadata": {},
   "source": [
    "This ended up being more of a math question than a programming one I think... A bit of googling revealed the algorithm to work it out and then it was straight forward."
   ]
  },
  {
   "cell_type": "markdown",
   "metadata": {},
   "source": [
    "## Pyramid Slide Down\n",
    "\n",
    "Let's say that the 'slide down' is a sum of consecutive numbers from the top to the bottom of the pyramid.\n",
    "\n",
    "Your task is to write a function longestSlideDown (in ruby: longest_slide_down) that takes a pyramid representation as argument and returns its' longest 'slide down'. For example,\n",
    "\n",
    "<pre>\n",
    "   /3/  \n",
    "  \\7\\ 4  \n",
    " 2 \\4\\ 6  \n",
    "8 5 \\9\\ 3 \n",
    "</pre>"
   ]
  },
  {
   "cell_type": "code",
   "execution_count": 22,
   "metadata": {},
   "outputs": [],
   "source": [
    "def longest_slide_down(pyramid):\n",
    "    \n",
    "    m = len(pyramid[-1])-1 #number of blocks\n",
    "    \n",
    "    for row in pyramid:\n",
    "        while len(row) < m:\n",
    "            row.append(0)\n",
    "  \n",
    "    for i in range(m-1, -1, -1): #start at the bottom\n",
    "        for j in range(i+1):\n",
    "            # add the maximum of possible numbers\n",
    "            if pyramid[i+1][j] > pyramid[i+1][j+1]: \n",
    "                pyramid[i][j] += pyramid[i+1][j] \n",
    "            else: \n",
    "                pyramid[i][j] += pyramid[i+1][j+1] \n",
    "    return pyramid[0][0] #max value\n",
    "\n",
    "test_case = [[3], [7, 4], [2, 4, 6], [8, 5, 9, 3]]\n",
    "assert longest_slide_down(test_case) == 23"
   ]
  },
  {
   "cell_type": "markdown",
   "metadata": {},
   "source": [
    "## DblLinear\n",
    "\n",
    "Consider a sequence u where u is defined as follows:\n",
    "\n",
    "The number u(0) = 1 is the first one in u.  \n",
    "For each x in u, then y = 2 * x + 1 and z = 3 * x + 1 must be in u too.  \n",
    "There are no other numbers in u.  \n",
    "Ex: u = [1, 3, 4, 7, 9, 10, 13, 15, 19, 21, 22, 27, ...]  \n",
    "\n",
    "1 gives 3 and 4, then 3 gives 7 and 10, 4 gives 9 and 13, then 7 gives 15 and 22 and so on...  \n",
    "\n",
    "Task:  \n",
    "Given parameter n the function dbl_linear (or dblLinear...) returns the element u(n) of the ordered (with <) sequence u.  "
   ]
  },
  {
   "cell_type": "code",
   "execution_count": 15,
   "metadata": {},
   "outputs": [],
   "source": [
    "#My first inclination (inefficient; ): \n",
    "def dbl_linear_attempt(n):\n",
    "    if n == 0:\n",
    "        return (n)\n",
    "    else:\n",
    "        dbl_series = set()\n",
    "        dbl_series.add(1)\n",
    "        dbl_series_ordered = sorted(list(dbl_series))\n",
    "        \n",
    "        for i in range (0,n):\n",
    "            x = dbl_series_ordered[i]\n",
    "            y = 2 * x + 1\n",
    "            z = 3 * x  + 1\n",
    "            dbl_series.add(y)\n",
    "            dbl_series.add(z)\n",
    "            \n",
    "            dbl_series_ordered = sorted(list(dbl_series))\n",
    "            \n",
    "        return (dbl_series_ordered[n])#_ordered)#[n])\n",
    "    \n",
    "assert dbl_linear_attempt(10) == 22\n",
    "assert dbl_linear_attempt(20) == 57\n",
    "assert dbl_linear_attempt(30) == 91\n",
    "assert dbl_linear_attempt(50) == 175"
   ]
  },
  {
   "cell_type": "markdown",
   "metadata": {},
   "source": [
    "Got stuck here, found some solutions online *dbl_linear_2 / dbl_linear_3*"
   ]
  },
  {
   "cell_type": "code",
   "execution_count": 109,
   "metadata": {},
   "outputs": [
    {
     "name": "stdout",
     "output_type": "stream",
     "text": [
      "[1, 3]\n",
      "[1, 3, 4]\n",
      "[1, 3, 4, 7]\n",
      "[1, 3, 4, 7, 9]\n",
      "[1, 3, 4, 7, 9, 10]\n",
      "[1, 3, 4, 7, 9, 10, 13]\n",
      "[1, 3, 4, 7, 9, 10, 13, 15]\n",
      "[1, 3, 4, 7, 9, 10, 13, 15, 19]\n",
      "[1, 3, 4, 7, 9, 10, 13, 15, 19, 21]\n",
      "[1, 3, 4, 7, 9, 10, 13, 15, 19, 21, 22]\n"
     ]
    },
    {
     "data": {
      "text/plain": [
       "22"
      ]
     },
     "execution_count": 109,
     "metadata": {},
     "output_type": "execute_result"
    }
   ],
   "source": [
    "'''\n",
    "Only appends the smallest value in each iteration. \n",
    "The index for the other value is stored in x/y for the next iteration.\n",
    "This way the list's order is maintained without needing sorting each time\n",
    "'''\n",
    "\n",
    "\n",
    "def dbl_linear_2(n) : \n",
    "    dbl_series = [1] \n",
    "    x = 0 #1\n",
    "    y = 0\n",
    "    \n",
    "    while len(dbl_series) <= n : \n",
    "        a = 2 * dbl_series[x] + 1 \n",
    "        b = 3 * dbl_series[y] + 1 \n",
    "        \n",
    "        if a > b: \n",
    "            dbl_series.append(b)\n",
    "            y += 1 \n",
    "        elif a < b: \n",
    "            dbl_series.append(a)\n",
    "            x += 1 \n",
    "        else: \n",
    "            dbl_series.append(a)\n",
    "            x += 1 \n",
    "            y += 1\n",
    "        #print (dbl_series) #for \n",
    "            \n",
    "    return dbl_series[n]\n",
    "\n",
    "dbl_linear_2(10)"
   ]
  },
  {
   "cell_type": "code",
   "execution_count": 123,
   "metadata": {},
   "outputs": [
    {
     "data": {
      "text/plain": [
       "7"
      ]
     },
     "execution_count": 123,
     "metadata": {},
     "output_type": "execute_result"
    }
   ],
   "source": [
    "from collections import deque\n",
    "'''\n",
    "https://docs.python.org/2/library/collections.html#collections.deque\n",
    "Another method that works similary to the above.\n",
    "Keeps track of largest/highest \n",
    "'''\n",
    "\n",
    "def dbl_linear_3(n):\n",
    "    h = 1; cnt = 0; q2, q3 = deque([]), deque([])\n",
    "    while True:\n",
    "        if (cnt >= n):\n",
    "            return h\n",
    "        q2.append(2 * h + 1)\n",
    "        q3.append(3 * h + 1)\n",
    "        h = min(q2[0], q3[0])\n",
    "        \n",
    "        if h == q2[0]:\n",
    "            h = q2.popleft()\n",
    "        if h == q3[0]:\n",
    "            h = q3.popleft()\n",
    "        cnt += 1\n",
    "\n",
    "dbl_linear_3(3)"
   ]
  },
  {
   "cell_type": "markdown",
   "metadata": {},
   "source": [
    "## Probabilities for Sums in Rolling Cubic Dice\n",
    "\n",
    "When we throw 2 classical dice (values on each side from 1 to 6) we have 36 (6 * 6) different results.\n",
    "\n",
    "We want to know the probability of having the sum of the results equals to 11. For that result we have only the combination of 6 and 5. So we will have two events: {5, 6} and {6, 5}\n",
    "\n",
    "So the probability for that result will be:\n",
    "\n",
    "    P(11, 2) = 2/(6*6) = 1/18    (The two is because we have 2 dice)\n",
    "Now, we want to calculate the probability of having the sum equals to 8. The combinations for that result will be the following: {4,4}, {3,5}, {5,3}, {2,6}, {6,2} with a total of five combinations.\n",
    "\n",
    "    P(8, 2) = 5/36 \n",
    "Things may be more complicated if we have more dices and sum values higher.\n"
   ]
  },
  {
   "cell_type": "code",
   "execution_count": 13,
   "metadata": {},
   "outputs": [],
   "source": [
    "from itertools import product\n",
    "from collections import Counter\n",
    "\n",
    "def rolldice_sum_prob(sum_, dice_amount):\n",
    "    ''' sum_: the roll we want and\n",
    "        dice_amount: number of die to roll'''\n",
    "    \n",
    "    #Calculate the total number rolled by summing up each possible combination of rolls\n",
    "    permutations = [sum(i) for i in list(product([1,2,3,4,5,6], repeat=dice_amount))]\n",
    "    \n",
    "    #Count each occurence and store in a Counter() object\n",
    "    counts = Counter()\n",
    "    for i in permutations:\n",
    "        counts[i] += 1\n",
    "\n",
    "    #Calculate the total possible combinations (6*6 for 2 die, 6*6*6 for 3 die, etc)\n",
    "    total_possible = sum([counts[i] for i in counts.keys()])\n",
    "    \n",
    "    #Return the probability of a given roll\n",
    "    return counts[sum_]/total_possible\n",
    "\n",
    "assert round(rolldice_sum_prob(11,2),5) == 0.05556\n",
    "assert round(rolldice_sum_prob(8,2),5) == 0.13889\n",
    "assert round(rolldice_sum_prob(8,3),5) == 0.09722"
   ]
  },
  {
   "cell_type": "markdown",
   "metadata": {},
   "source": [
    "## Land perimeter\n",
    "kata: https://www.codewars.com/kata/land-perimeter/train/python\n",
    "\n",
    "Solution  \n",
    "The idea is to traverse the matrix, find all ones and find their contribution in perimeter. The maximum contribution of a 1 is four if it is surrounded by all 0s. The contribution reduces by one with 1 around it.\n",
    "\n",
    "Algorithm for solving this problem:\n",
    "\n",
    "Traverse the whole matrix and find the cell having value equal to 1.\n",
    "Calculate the number of closed side for that cell and add, 4 – number of closed side to the total perimeter.\n",
    "Below is the implementation of this approach:"
   ]
  },
  {
   "cell_type": "code",
   "execution_count": 30,
   "metadata": {},
   "outputs": [],
   "source": [
    "def land_perimeter(arr):\n",
    "    contribs = []\n",
    "    perim = 0\n",
    "\n",
    "    for i, row in enumerate(arr):\n",
    "\n",
    "        for j, char in enumerate(row):\n",
    "\n",
    "            if char == \"X\":\n",
    "                perim += 4\n",
    "\n",
    "                #TOP\n",
    "                if i != 0: #edge check\n",
    "                    if arr[i-1][j] == \"X\":\n",
    "                        perim -=1\n",
    "\n",
    "                #BOTTOM\n",
    "                if i != len(arr)-1: #edge check\n",
    "                    if arr[i+1][j] == \"X\":\n",
    "                        perim -= 1\n",
    "\n",
    "                #LEFT\n",
    "                if j != 0: #edge check\n",
    "                    if arr[i][j-1] == \"X\":\n",
    "                        perim -=1\n",
    "\n",
    "                #RIGHT\n",
    "                if j != len(row)-1: #edge check\n",
    "                    if arr[i][j+1] == \"X\":\n",
    "                        perim -=1\n",
    "    return (\"Total land perimeter: {}\".format(perim))\n",
    "\n",
    "test1 = ['XOOO',\n",
    " 'XOXO',\n",
    " 'XOXO',\n",
    " 'OOXX',\n",
    " 'OOOO']\n",
    "\n",
    "test2 = ['XOOXO',\n",
    " 'XOOXO',\n",
    " 'OOOXO',\n",
    " 'XXOXO',\n",
    " 'OXOOO']\n",
    "\n",
    "assert land_perimeter(test1) == 'Total land perimeter: 18'\n",
    "assert land_perimeter(test2) == 'Total land perimeter: 24'"
   ]
  },
  {
   "cell_type": "markdown",
   "metadata": {},
   "source": [
    "## https://www.codewars.com/trainer/python"
   ]
  },
  {
   "cell_type": "code",
   "execution_count": 81,
   "metadata": {},
   "outputs": [],
   "source": [
    "key = 'crazy'\n",
    "\n",
    "def find_key(key):\n",
    "    pass"
   ]
  },
  {
   "cell_type": "code",
   "execution_count": 82,
   "metadata": {},
   "outputs": [
    {
     "data": {
      "text/plain": [
       "{'a': 1, 'c': 2, 'r': 3, 'y': 4, 'z': 5}"
      ]
     },
     "execution_count": 82,
     "metadata": {},
     "output_type": "execute_result"
    }
   ],
   "source": [
    "x = sorted([i for i in key])\n",
    "\n",
    "y = {}\n",
    "for ind, let in enumerate(x):\n",
    "    y[let] = ind+1\n",
    "y"
   ]
  },
  {
   "cell_type": "code",
   "execution_count": 87,
   "metadata": {},
   "outputs": [],
   "source": [
    "order = []\n",
    "for ind, let in enumerate(key):\n",
    "    order.append(y[let])"
   ]
  },
  {
   "cell_type": "code",
   "execution_count": 72,
   "metadata": {},
   "outputs": [
    {
     "name": "stdout",
     "output_type": "stream",
     "text": [
      "cseer\n",
      "ntiof\n",
      "armit\n",
      " on\n"
     ]
    }
   ],
   "source": [
    "from math import ceil\n",
    "\n",
    "decode_me = 'cseerntiofarmit on'\n",
    "\n",
    "splits = ceil(len(decode_me) / len(key))\n",
    "\n",
    "start_slice = 0\n",
    "slice_range = len(key)\n",
    "\n",
    "output = []\n",
    "for i in range(splits):\n",
    "    output.append(decode_me[start_slice : slice_range])\n",
    "    print (decode_me[start_slice : slice_range])\n",
    "    start_slice += len(key)\n",
    "    slice_range += len(key)"
   ]
  },
  {
   "cell_type": "code",
   "execution_count": 73,
   "metadata": {},
   "outputs": [
    {
     "data": {
      "text/plain": [
       "['cseer', 'ntiof', 'armit', ' on']"
      ]
     },
     "execution_count": 73,
     "metadata": {},
     "output_type": "execute_result"
    }
   ],
   "source": [
    "output"
   ]
  },
  {
   "cell_type": "code",
   "execution_count": 94,
   "metadata": {},
   "outputs": [
    {
     "data": {
      "text/plain": [
       "[2, 3, 1, 5, 4]"
      ]
     },
     "execution_count": 94,
     "metadata": {},
     "output_type": "execute_result"
    }
   ],
   "source": [
    "order"
   ]
  },
  {
   "cell_type": "code",
   "execution_count": null,
   "metadata": {},
   "outputs": [],
   "source": [
    "for i in output:\n",
    "    for j in order:\n",
    "        print (i[j-1])"
   ]
  },
  {
   "cell_type": "markdown",
   "metadata": {},
   "source": []
  },
  {
   "cell_type": "code",
   "execution_count": 15,
   "metadata": {},
   "outputs": [
    {
     "name": "stdout",
     "output_type": "stream",
     "text": [
      "[[3, 4, 4], [6, 4, 4], [2, 2, 4]]\n"
     ]
    }
   ],
   "source": []
  }
 ],
 "metadata": {
  "kernelspec": {
   "display_name": "Python 3",
   "language": "python",
   "name": "python3"
  },
  "language_info": {
   "codemirror_mode": {
    "name": "ipython",
    "version": 3
   },
   "file_extension": ".py",
   "mimetype": "text/x-python",
   "name": "python",
   "nbconvert_exporter": "python",
   "pygments_lexer": "ipython3",
   "version": "3.6.1"
  }
 },
 "nbformat": 4,
 "nbformat_minor": 2
}
