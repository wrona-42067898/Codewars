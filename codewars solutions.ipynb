{
 "cells": [
  {
   "cell_type": "markdown",
   "metadata": {},
   "source": [
    "### Codeacademy\n",
    "\n",
    "My solutions for problems from https://www.codewars.com"
   ]
  },
  {
   "cell_type": "markdown",
   "metadata": {},
   "source": [
    "Write a function that takes in a string of one or more words, and returns the same string, but with all five or more letter words reversed (Just like the name of this Kata). Strings passed in will consist of only letters and spaces. Spaces will be include donly when more than one word is present."
   ]
  },
  {
   "cell_type": "code",
   "execution_count": 28,
   "metadata": {},
   "outputs": [
    {
     "data": {
      "text/plain": [
       "'Hi my name is sirhC anorW'"
      ]
     },
     "execution_count": 28,
     "metadata": {},
     "output_type": "execute_result"
    }
   ],
   "source": [
    "def spin_words(sentence):\n",
    "    words = sentence.split(\" \")\n",
    "    rev_words = [word[::-1] if len(word) >= 5 else word for word in words]\n",
    "    return (\" \".join(rev_words))\n",
    "\n",
    "#Example\n",
    "spin_words(\"Hi my name is Chris Wrona\")"
   ]
  },
  {
   "cell_type": "markdown",
   "metadata": {},
   "source": [
    "The input is a string str of digits. Cut the string into chunks (a chunk here is a substring of the initial string) of size sz (ignore the last chunk if its size is less than sz). If a chunk represents an integer such as the sum of the cubes of its digits is divisible by 2, reverse that chunk; otherwise rotate it to the left by one position. Put together these modified chunks and return the result as a string.  \n",
    "  \n",
    "If\n",
    "    - sz is <= 0 or if str is empty return \"\"\n",
    "    - sz is greater (>) than the length of str it is impossible to take a chunk of size sz hence return \"\"."
   ]
  },
  {
   "cell_type": "code",
   "execution_count": 29,
   "metadata": {},
   "outputs": [
    {
     "data": {
      "text/plain": [
       "'234561444222'"
      ]
     },
     "execution_count": 29,
     "metadata": {},
     "output_type": "execute_result"
    }
   ],
   "source": [
    "def revrot(strng, sz):\n",
    "    if sz == 0:\n",
    "        return (\"\")\n",
    "    counts = len(strng) // sz #how many n digit numbers to iterate through\n",
    "    start_pos = 0\n",
    "    sum_cubes = 0\n",
    "    answer = \"\"\n",
    "    for i in range (0,counts):\n",
    "        n_digit_num = strng[start_pos: start_pos + sz]\n",
    "        for number in n_digit_num:\n",
    "            sum_cubes += int(number)**3\n",
    "        if sum_cubes % 2 == 0:\n",
    "            answer += n_digit_num[::-1]\n",
    "            sum_cubes = 0\n",
    "        else:\n",
    "            answer += (n_digit_num[1:] + n_digit_num[0])\n",
    "            sum_cubes = 0\n",
    "        start_pos += sz\n",
    "    return (answer)\n",
    "\n",
    "#Example; first 6-digit number is shuffled, second 6-digit number is inverted\n",
    "revrot(\"123456222444\", 6)"
   ]
  },
  {
   "cell_type": "markdown",
   "metadata": {},
   "source": [
    "Create a fibonacci function that given a signature array/list, returns the first n elements - signature included of the so seeded sequence.\n",
    "\n",
    "Signature will always contain 3 numbers; n will always be a non-negative number; if n == 0, then return an empty array and be ready for anything else which is not clearly specified ;)"
   ]
  },
  {
   "cell_type": "code",
   "execution_count": 30,
   "metadata": {},
   "outputs": [
    {
     "data": {
      "text/plain": [
       "[1, 3, 5, 9, 17, 31, 57, 105]"
      ]
     },
     "execution_count": 30,
     "metadata": {},
     "output_type": "execute_result"
    }
   ],
   "source": [
    "def tribonacci(signature, n):\n",
    "    n1 = signature[0]\n",
    "    n2 = signature[1]\n",
    "    n3 = signature[2]\n",
    "    out = []\n",
    "    for i in range (0,n):\n",
    "        out.append(n1)\n",
    "        n1,n2,n3 = n2,n3,n1+n2+n3\n",
    "    return(out)\n",
    "\n",
    "#Example \n",
    "tribonacci([1,3,5], 8)"
   ]
  },
  {
   "cell_type": "markdown",
   "metadata": {},
   "source": [
    "In DNA strings, symbols \"A\" and \"T\" are complements of each other, as \"C\" and \"G\". You have function with one side of the DNA (string, except for Haskell); you need to get the other complementary side. DNA strand is never empty or there is no DNA at all (again, except for Haskell)."
   ]
  },
  {
   "cell_type": "code",
   "execution_count": 31,
   "metadata": {},
   "outputs": [
    {
     "data": {
      "text/plain": [
       "'TACTGCATCGATCGATCGATCGACGCGCG'"
      ]
     },
     "execution_count": 31,
     "metadata": {},
     "output_type": "execute_result"
    }
   ],
   "source": [
    "def DNA_strand(dna):\n",
    "    comp = {'A': 'T',\n",
    "            'T': 'A',\n",
    "            'G': 'C',\n",
    "            'C': 'G'}\n",
    "    return ''.join(list(map(lambda x: comp[x], dna)))\n",
    "\n",
    "#Example\n",
    "DNA_strand(\"ATGACGTAGCTAGCTAGCTAGCTGCGCGC\")"
   ]
  },
  {
   "cell_type": "markdown",
   "metadata": {},
   "source": [
    "Build a Tower by the following given argument:\n",
    "    number of floors (integer and always greater than 0).\n",
    "\n",
    "Tower block is represented as *. Python: return a list;  "
   ]
  },
  {
   "cell_type": "code",
   "execution_count": 32,
   "metadata": {},
   "outputs": [
    {
     "name": "stdout",
     "output_type": "stream",
     "text": [
      "  *  \n",
      " *** \n",
      "*****\n"
     ]
    }
   ],
   "source": [
    "def tower_builder(n_floors):\n",
    "    tower = []\n",
    "    num_spaces = n_floors\n",
    "    asterisk_count = 1\n",
    "    for i in range (0, n_floors):\n",
    "        if i == 0:\n",
    "            tower.append((num_spaces-1) * \" \" + '*' + (num_spaces -1) * \" \")\n",
    "            num_spaces -=2\n",
    "        else:\n",
    "            tower.append((num_spaces) * \" \" + (asterisk_count + 2) * \"*\" + (num_spaces) * \" \")\n",
    "            asterisk_count += 2\n",
    "            num_spaces -= 1\n",
    "    return (tower)\n",
    "\n",
    "#Example of a tower with 3 floors\n",
    "for level in tower_builder(3):\n",
    "    print(level)"
   ]
  },
  {
   "cell_type": "markdown",
   "metadata": {},
   "source": [
    "The main idea is to count all the occuring characters(UTF-8) in string. If you have string like this aba then the result should be { 'a': 2, 'b': 1 }\n",
    "\n",
    "What if the string is empty ? Then the result should be empty object literal { }"
   ]
  },
  {
   "cell_type": "code",
   "execution_count": 33,
   "metadata": {},
   "outputs": [
    {
     "data": {
      "text/plain": [
       "{'s': 2,\n",
       " 'u': 1,\n",
       " 'p': 1,\n",
       " 'e': 1,\n",
       " 'r': 2,\n",
       " 'c': 2,\n",
       " 'a': 2,\n",
       " 'l': 2,\n",
       " 'i': 4,\n",
       " 'f': 1,\n",
       " 'g': 1,\n",
       " 't': 1}"
      ]
     },
     "execution_count": 33,
     "metadata": {},
     "output_type": "execute_result"
    }
   ],
   "source": [
    "def count(string):\n",
    "    out_d = {}    \n",
    "    for letter in string:\n",
    "        if letter not in out_d.keys():\n",
    "            out_d[letter] = 1\n",
    "        else:\n",
    "            out_d[letter] += 1\n",
    "    return out_d\n",
    "\n",
    "#Example\n",
    "count(\"supercalifragilistic\")\n",
    "\n",
    "#Additional note: could have used this one-liner using .count =.=\n",
    "#return {i: string.count(i) for i in string}"
   ]
  },
  {
   "cell_type": "markdown",
   "metadata": {},
   "source": [
    "Complete the method/function so that it converts dash/underscore delimited words into camel casing. The first word within the output should be capitalized only if the original word was capitalized."
   ]
  },
  {
   "cell_type": "code",
   "execution_count": 34,
   "metadata": {},
   "outputs": [
    {
     "name": "stdout",
     "output_type": "stream",
     "text": [
      "the-Cat_is_Pippi --> theCatIsPippi\n",
      "The_Stealth_Warrior --> TheStealthWarrior\n"
     ]
    }
   ],
   "source": [
    "def to_camel_case(text):\n",
    "    uppers = list(map(chr, range(65, 91)))\n",
    "    sep_pos = [pos for pos, char in enumerate(text) if char in [\"_\", \"-\"]]\n",
    "    text_list = list(text)\n",
    "    for i in sep_pos:\n",
    "        if text[i + 1] not in uppers:\n",
    "             text_list[i+1] = text[i+1].upper()\n",
    "    text = ''.join(text_list).replace('_', '').replace('-', '')\n",
    "    return (text)\n",
    "    \n",
    "\n",
    "test1 = \"the-Cat_is_Pippi\"\n",
    "test2 = \"The_Stealth_Warrior\"\n",
    "\n",
    "#Test cases\n",
    "print (test1 + \" --> \" + to_camel_case(test1))\n",
    "print (test2 + \" --> \" + to_camel_case(test2))\n",
    "\n",
    "#Another one line solution\n",
    "#print(text[0] + ''.join([w[0].upper() + w[1:] for w in text.replace(\"_\", \"-\").split(\"-\")])[1:] if text else '')"
   ]
  },
  {
   "cell_type": "markdown",
   "metadata": {},
   "source": [
    "Polycarpus works as a DJ in the best Berland nightclub, and he often uses dubstep music in his performance. Recently, he has decided to take a couple of old songs and make dubstep remixes from them. Let's assume that a song consists of some number of words (that don't contain WUB). To make the dubstep remix of this song, Polycarpus inserts a certain number of words \"WUB\" before the first word of the song (the number may be zero), after the last word (the number may be zero), and between words (at least one between any pair of neighbouring words), and then the boy glues together all the words, including \"WUB\", in one string and plays the song at the club."
   ]
  },
  {
   "cell_type": "code",
   "execution_count": 36,
   "metadata": {
    "scrolled": true
   },
   "outputs": [
    {
     "data": {
      "text/plain": [
       "'WE ARE THE CHAMPIONS MY FRIEND'"
      ]
     },
     "execution_count": 36,
     "metadata": {},
     "output_type": "execute_result"
    }
   ],
   "source": [
    "def song_decoder(song):\n",
    "    words = song.replace(\"WUB\", \" \").strip(\" \").split(\" \")\n",
    "    return \" \".join([\"\".join(w) for w in words if w != ''])\n",
    "\n",
    "#Test case\n",
    "song_decoder(\"WUBWEWUBAREWUBWUBTHEWUBCHAMPIONSWUBMYWUBFRIENDWUB\")"
   ]
  },
  {
   "cell_type": "markdown",
   "metadata": {},
   "source": []
  },
  {
   "cell_type": "code",
   "execution_count": 11,
   "metadata": {},
   "outputs": [],
   "source": [
    "n = '1714'\n",
    "n2 = '12345'\n",
    "print (n[-2::-2])"
   ]
  },
  {
   "cell_type": "markdown",
   "metadata": {},
   "source": [
    "Given two arrays of strings a1 and a2 return a sorted array r in lexicographical order of the strings of a1 which are substrings of strings of a2."
   ]
  },
  {
   "cell_type": "code",
   "execution_count": 29,
   "metadata": {},
   "outputs": [
    {
     "data": {
      "text/plain": [
       "['arp', 'live', 'strong']"
      ]
     },
     "execution_count": 29,
     "metadata": {},
     "output_type": "execute_result"
    }
   ],
   "source": [
    "def in_array(array1, array2):\n",
    "    return sorted(list(set([sub for word in array2 for sub in array1 if sub in word])))\n",
    "\n",
    "###Test case\n",
    "a1 = [\"arp\", \"live\", \"strong\"]\n",
    "a2 = [\"lively\", \"alive\", \"harp\", \"sharp\", \"armstrong\"]\n",
    "in_array(a1,a2)"
   ]
  },
  {
   "cell_type": "markdown",
   "metadata": {},
   "source": [
    "Simulate the video game's character selection screen behaviour, more specifically the selection grid.  \n",
    "**Input**\n",
    "    - the list of game characters in a 2x6 grid;\n",
    "    - the initial position of the selection cursor (top-left is (0,0));\n",
    "    - a list of moves of the selection cursor (which are up, down, left, right);\n",
    "**Output**\n",
    "the list of characters who have been hovered by the selection cursor after all the moves (ordered and with repetition, all the ones after a move, wether successful or not, see tests);  \n",
    "**Rules**\n",
    "    - Selection cursor is circular horizontally but not vertically!\n",
    "    - As you might remember from the game, the selection cursor rotates horizontally but not vertically; that means that if I'm in the leftmost and I try to go left again I'll get to the rightmost."
   ]
  },
  {
   "cell_type": "code",
   "execution_count": 104,
   "metadata": {},
   "outputs": [
    {
     "data": {
      "text/plain": [
       "['Ryu', 'Vega', 'Ryu', 'Vega', 'Balrog']"
      ]
     },
     "execution_count": 104,
     "metadata": {},
     "output_type": "execute_result"
    }
   ],
   "source": [
    "def street_fighter_selection(fighters, initial_position, moves):\n",
    "    if moves == []:\n",
    "        return []\n",
    "    \n",
    "    initial = list((initial_position))\n",
    "    current_fighter = []\n",
    "    for move in moves:\n",
    "        if move == 'up':            \n",
    "            initial[0] = 0\n",
    "        if move == 'down':\n",
    "            initial[0] = 1\n",
    "        if move == 'left':\n",
    "            if initial[1] == 0:\n",
    "                initial[1] = 5\n",
    "            else:\n",
    "                initial[1] = initial[1] - 1\n",
    "        if move == 'right':\n",
    "            if initial[1] == 5:\n",
    "                initial[1] = 0\n",
    "            else:\n",
    "                initial[1] = initial[1] + 1\n",
    "                \n",
    "        current_fighter.append(fighters[initial[0]][initial[1]])\n",
    "    return (current_fighter)\n",
    "\n",
    "\n",
    "#Test case\n",
    "fighters = [\n",
    "    [\"Ryu\", \"E.Honda\", \"Blanka\", \"Guile\", \"Balrog\", \"Vega\"],\n",
    "    [\"Ken\", \"Chun Li\", \"Zangief\", \"Dhalsim\", \"Sagat\", \"M.Bison\"]\n",
    "]\n",
    "moves = ['up', 'left', 'right', 'left', 'left']\n",
    "\n",
    "street_fighter_selection(fighters, (0,0), moves)"
   ]
  },
  {
   "cell_type": "markdown",
   "metadata": {},
   "source": [
    "The marketing team is spending way too much time typing in hashtags.\n",
    "Let's help them with out own Hashtag Generator!\n",
    "\n",
    "Here's the deal:\n",
    "    - It must start with a hashtag (#).\n",
    "    - All words must have their first letter capitalized.\n",
    "    - If the final result is longer than 140 chars it must return false.\n",
    "    - If the input or the result is an empty string it must return false."
   ]
  },
  {
   "cell_type": "code",
   "execution_count": 29,
   "metadata": {},
   "outputs": [
    {
     "name": "stdout",
     "output_type": "stream",
     "text": [
      "#HelloThereThanksForTryingMyKata\n",
      " #HelloWorld\n",
      " False\n"
     ]
    }
   ],
   "source": [
    "def generate_hashtag(s):\n",
    "    if len(s) == 0 or len(s) > 140:\n",
    "        return (False)\n",
    "    else:\n",
    "        return (\"#\" + (\"\").join([i.title() for i in s.split(\" \") if i != '']))\n",
    "    \n",
    "#Test cases\n",
    "t1,t2,t3 = \" Hello there thanks for trying my Kata\", \"    Hello     World   \", \"\"\n",
    "\n",
    "print (generate_hashtag(t1) + \"\\n\", generate_hashtag(t2) + \"\\n\", generate_hashtag(t3))"
   ]
  },
  {
   "cell_type": "code",
   "execution_count": null,
   "metadata": {},
   "outputs": [],
   "source": []
  }
 ],
 "metadata": {
  "kernelspec": {
   "display_name": "Python 3",
   "language": "python",
   "name": "python3"
  },
  "language_info": {
   "codemirror_mode": {
    "name": "ipython",
    "version": 3
   },
   "file_extension": ".py",
   "mimetype": "text/x-python",
   "name": "python",
   "nbconvert_exporter": "python",
   "pygments_lexer": "ipython3",
   "version": "3.6.5"
  }
 },
 "nbformat": 4,
 "nbformat_minor": 2
}
