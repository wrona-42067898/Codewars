{
 "cells": [
  {
   "cell_type": "markdown",
   "metadata": {},
   "source": [
    "### Codeacademy\n",
    "\n",
    "My solutions for problems from https://www.codewars.com"
   ]
  },
  {
   "cell_type": "markdown",
   "metadata": {},
   "source": [
    "Write a function that takes in a string of one or more words, and returns the same string, but with all five or more letter words reversed (Just like the name of this Kata). Strings passed in will consist of only letters and spaces. Spaces will be include donly when more than one word is present."
   ]
  },
  {
   "cell_type": "code",
   "execution_count": 87,
   "metadata": {},
   "outputs": [
    {
     "data": {
      "text/plain": [
       "'Hi my name is sirhC anorW'"
      ]
     },
     "execution_count": 87,
     "metadata": {},
     "output_type": "execute_result"
    }
   ],
   "source": [
    "def spin_words(sentence):\n",
    "    words = sentence.split(\" \")\n",
    "    rev_words = [word[::-1] if len(word) >= 5 else word for word in words]\n",
    "    return (\" \".join(rev_words))\n",
    "\n",
    "#Example\n",
    "spin_words(\"Hi my name is Chris Wrona\")"
   ]
  },
  {
   "cell_type": "markdown",
   "metadata": {},
   "source": [
    "The input is a string str of digits. Cut the string into chunks (a chunk here is a substring of the initial string) of size sz (ignore the last chunk if its size is less than sz). If a chunk represents an integer such as the sum of the cubes of its digits is divisible by 2, reverse that chunk; otherwise rotate it to the left by one position. Put together these modified chunks and return the result as a string.  \n",
    "  \n",
    "If\n",
    "    - sz is <= 0 or if str is empty return \"\"\n",
    "    - sz is greater (>) than the length of str it is impossible to take a chunk of size sz hence return \"\"."
   ]
  },
  {
   "cell_type": "code",
   "execution_count": 90,
   "metadata": {},
   "outputs": [
    {
     "data": {
      "text/plain": [
       "'234561444222'"
      ]
     },
     "execution_count": 90,
     "metadata": {},
     "output_type": "execute_result"
    }
   ],
   "source": [
    "def revrot(strng, sz):\n",
    "    if sz == 0:\n",
    "        return (\"\")\n",
    "    counts = len(strng) // sz #how many n digit numbers to iterate through\n",
    "    start_pos = 0\n",
    "    sum_cubes = 0\n",
    "    answer = \"\"\n",
    "    for i in range (0,counts):\n",
    "        n_digit_num = strng[start_pos: start_pos + sz]\n",
    "        for number in n_digit_num:\n",
    "            sum_cubes += int(number)**3\n",
    "        if sum_cubes % 2 == 0:\n",
    "            answer += n_digit_num[::-1]\n",
    "            sum_cubes = 0\n",
    "        else:\n",
    "            answer += (n_digit_num[1:] + n_digit_num[0])\n",
    "            sum_cubes = 0\n",
    "        start_pos += sz\n",
    "    return (answer)\n",
    "\n",
    "#Example; first 6-digit number is shuffled, second 6-digit number is inverted\n",
    "revrot(\"123456222444\", 6)"
   ]
  },
  {
   "cell_type": "markdown",
   "metadata": {},
   "source": [
    "Create a fibonacci function that given a signature array/list, returns the first n elements - signature included of the so seeded sequence.\n",
    "\n",
    "Signature will always contain 3 numbers; n will always be a non-negative number; if n == 0, then return an empty array and be ready for anything else which is not clearly specified ;)"
   ]
  },
  {
   "cell_type": "code",
   "execution_count": 95,
   "metadata": {},
   "outputs": [
    {
     "data": {
      "text/plain": [
       "[1, 3, 5, 9, 17, 31, 57, 105]"
      ]
     },
     "execution_count": 95,
     "metadata": {},
     "output_type": "execute_result"
    }
   ],
   "source": [
    "def tribonacci(signature, n):\n",
    "    n1 = signature[0]\n",
    "    n2 = signature[1]\n",
    "    n3 = signature[2]\n",
    "    out = []\n",
    "    for i in range (0,n):\n",
    "        out.append(n1)\n",
    "        n1,n2,n3 = n2,n3,n1+n2+n3\n",
    "    return(out)\n",
    "\n",
    "#Example \n",
    "tribonacci([1,3,5], 8)"
   ]
  },
  {
   "cell_type": "markdown",
   "metadata": {},
   "source": [
    "In DNA strings, symbols \"A\" and \"T\" are complements of each other, as \"C\" and \"G\". You have function with one side of the DNA (string, except for Haskell); you need to get the other complementary side. DNA strand is never empty or there is no DNA at all (again, except for Haskell)."
   ]
  },
  {
   "cell_type": "code",
   "execution_count": 97,
   "metadata": {},
   "outputs": [
    {
     "data": {
      "text/plain": [
       "'TACTGCATCGATCGATCGATCGACGCGCG'"
      ]
     },
     "execution_count": 97,
     "metadata": {},
     "output_type": "execute_result"
    }
   ],
   "source": [
    "def DNA_strand(dna):\n",
    "    comp = {'A': 'T',\n",
    "            'T': 'A',\n",
    "            'G': 'C',\n",
    "            'C': 'G'}\n",
    "    return ''.join(list(map(lambda x: comp[x], dna)))\n",
    "\n",
    "#Example\n",
    "DNA_strand(\"ATGACGTAGCTAGCTAGCTAGCTGCGCGC\")"
   ]
  },
  {
   "cell_type": "markdown",
   "metadata": {},
   "source": [
    "Build a Tower by the following given argument:\n",
    "    number of floors (integer and always greater than 0).\n",
    "\n",
    "Tower block is represented as *. Python: return a list;  "
   ]
  },
  {
   "cell_type": "code",
   "execution_count": 98,
   "metadata": {},
   "outputs": [
    {
     "name": "stdout",
     "output_type": "stream",
     "text": [
      "  *  \n",
      " *** \n",
      "*****\n"
     ]
    }
   ],
   "source": [
    "def tower_builder(n_floors):\n",
    "    tower = []\n",
    "    num_spaces = n_floors\n",
    "    asterisk_count = 1\n",
    "    for i in range (0, n_floors):\n",
    "        if i == 0:\n",
    "            tower.append((num_spaces-1) * \" \" + '*' + (num_spaces -1) * \" \")\n",
    "            num_spaces -=2\n",
    "        else:\n",
    "            tower.append((num_spaces) * \" \" + (asterisk_count + 2) * \"*\" + (num_spaces) * \" \")\n",
    "            asterisk_count += 2\n",
    "            num_spaces -= 1\n",
    "    return (tower)\n",
    "\n",
    "#Example of a tower with 3 floors\n",
    "for level in tower_builder(3):\n",
    "    print(level)"
   ]
  }
 ],
 "metadata": {
  "kernelspec": {
   "display_name": "Python 3",
   "language": "python",
   "name": "python3"
  },
  "language_info": {
   "codemirror_mode": {
    "name": "ipython",
    "version": 3
   },
   "file_extension": ".py",
   "mimetype": "text/x-python",
   "name": "python",
   "nbconvert_exporter": "python",
   "pygments_lexer": "ipython3",
   "version": "3.6.1"
  }
 },
 "nbformat": 4,
 "nbformat_minor": 2
}
